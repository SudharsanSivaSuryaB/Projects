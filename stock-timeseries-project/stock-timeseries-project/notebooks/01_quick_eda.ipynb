{
  "cells": [
    {
      "cell_type": "markdown",
      "metadata": {},
      "source": [
        "# Quick EDA\n",
        "Use this notebook to explore a ticker and its OHLCV series.\n",
        "The pipeline creates figures in `artifacts/figures/`."
      ]
    }
  ],
  "metadata": {
    "kernelspec": {
      "display_name": "python",
      "language": "python",
      "name": "python"
    }
  },
  "nbformat": 4,
  "nbformat_minor": 5
}